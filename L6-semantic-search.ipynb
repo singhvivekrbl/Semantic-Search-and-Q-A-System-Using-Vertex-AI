{
 "cells": [
  {
   "cell_type": "markdown",
   "id": "15690d6f-6515-4b65-9a8f-b907f90711ea",
   "metadata": {},
   "source": [
    "## Lesson 6: Semantic Search, Building a Q&A System"
   ]
  },
  {
   "cell_type": "markdown",
   "id": "5f6eba99-d01c-469d-9d88-a4d73cbf12cb",
   "metadata": {},
   "source": [
    "#### Project environment setup\n",
    "\n",
    "- Load credentials and relevant Python Libraries"
   ]
  },
  {
   "cell_type": "code",
   "execution_count": 1,
   "id": "600b34d4-4b4a-46f9-a0d6-9a312a09d1d0",
   "metadata": {
    "height": 47
   },
   "outputs": [
    {
     "name": "stderr",
     "output_type": "stream",
     "text": [
      "2024-03-24 00:10:00.565015: I tensorflow/core/platform/cpu_feature_guard.cc:193] This TensorFlow binary is optimized with oneAPI Deep Neural Network Library (oneDNN) to use the following CPU instructions in performance-critical operations:  AVX2 AVX512F FMA\n",
      "To enable them in other operations, rebuild TensorFlow with the appropriate compiler flags.\n",
      "2024-03-24 00:10:00.676432: W tensorflow/compiler/xla/stream_executor/platform/default/dso_loader.cc:64] Could not load dynamic library 'libcudart.so.11.0'; dlerror: libcudart.so.11.0: cannot open shared object file: No such file or directory\n",
      "2024-03-24 00:10:00.676457: I tensorflow/compiler/xla/stream_executor/cuda/cudart_stub.cc:29] Ignore above cudart dlerror if you do not have a GPU set up on your machine.\n",
      "2024-03-24 00:10:01.573888: W tensorflow/compiler/xla/stream_executor/platform/default/dso_loader.cc:64] Could not load dynamic library 'libnvinfer.so.7'; dlerror: libnvinfer.so.7: cannot open shared object file: No such file or directory\n",
      "2024-03-24 00:10:01.574166: W tensorflow/compiler/xla/stream_executor/platform/default/dso_loader.cc:64] Could not load dynamic library 'libnvinfer_plugin.so.7'; dlerror: libnvinfer_plugin.so.7: cannot open shared object file: No such file or directory\n",
      "2024-03-24 00:10:01.574177: W tensorflow/compiler/tf2tensorrt/utils/py_utils.cc:38] TF-TRT Warning: Cannot dlopen some TensorRT libraries. If you would like to use Nvidia GPU with TensorRT, please make sure the missing libraries mentioned above are installed properly.\n"
     ]
    }
   ],
   "source": [
    "from utils import authenticate\n",
    "credentials, PROJECT_ID = authenticate()"
   ]
  },
  {
   "cell_type": "markdown",
   "id": "dc1b1938-32fb-4e32-ac23-35ce13cbd62f",
   "metadata": {},
   "source": [
    "#### Enter project details"
   ]
  },
  {
   "cell_type": "code",
   "execution_count": 2,
   "id": "a33f57d4-096e-448b-aadf-d208deb84696",
   "metadata": {
    "height": 30
   },
   "outputs": [],
   "source": [
    "REGION = 'us-central1'"
   ]
  },
  {
   "cell_type": "code",
   "execution_count": 3,
   "id": "e6406271-fa6a-4293-aa61-bf0febf855af",
   "metadata": {
    "height": 64
   },
   "outputs": [],
   "source": [
    "import vertexai\n",
    "vertexai.init(project=PROJECT_ID, location=REGION, credentials = credentials)"
   ]
  },
  {
   "cell_type": "markdown",
   "id": "2fe50e74-21cc-4cb8-9595-7ad2df27af06",
   "metadata": {},
   "source": [
    "## Load Stack Overflow questions and answers from BigQuery"
   ]
  },
  {
   "cell_type": "code",
   "execution_count": 4,
   "id": "300058f6-3372-47fd-a4f5-63e92f7af612",
   "metadata": {
    "height": 30
   },
   "outputs": [],
   "source": [
    "import pandas as pd"
   ]
  },
  {
   "cell_type": "code",
   "execution_count": 5,
   "id": "eeb1e4da-a583-493b-8f6b-e30e69281e24",
   "metadata": {
    "height": 30
   },
   "outputs": [],
   "source": [
    "so_database = pd.read_csv('so_database_app.csv')"
   ]
  },
  {
   "cell_type": "code",
   "execution_count": 6,
   "id": "c31de31c-ca30-4a11-8fbc-8f179cde839a",
   "metadata": {
    "height": 47
   },
   "outputs": [
    {
     "name": "stdout",
     "output_type": "stream",
     "text": [
      "Shape: (2000, 3)\n",
      "                                             input_text  \\\n",
      "0     python's inspect.getfile returns \"<string>\"<p>...   \n",
      "1     Passing parameter to function while multithrea...   \n",
      "2     How do we test a specific method written in a ...   \n",
      "3     how can i remove the black bg color of an imag...   \n",
      "4     How to extract each sheet within an Excel file...   \n",
      "...                                                 ...   \n",
      "1995  Is it possible to made inline-block elements l...   \n",
      "1996  Flip Clock code works on Codepen and doesn't w...   \n",
      "1997  React Native How can I put one view in front o...   \n",
      "1998  setting fixed width with 100% height of the pa...   \n",
      "1999  How to make sidebar button not bring viewpoint...   \n",
      "\n",
      "                                            output_text category  \n",
      "0     <p><code>&lt;string&gt;</code> means that the ...   python  \n",
      "1     <p>Try this and note the difference:</p>\\n<pre...   python  \n",
      "2     <p>Duplicate of <a href=\"https://stackoverflow...   python  \n",
      "3     <p>The alpha channel &quot;disappears&quot; be...   python  \n",
      "4     <p>You need to specify the <code>index</code> ...   python  \n",
      "...                                                 ...      ...  \n",
      "1995  <p>If this is only for the visual purpose then...      css  \n",
      "1996  <p>You forgot to attach the CSS file for the f...      css  \n",
      "1997  <p>You can do it using zIndex for example:</p>...      css  \n",
      "1998  <p>You can use <code>width: calc(100% - 100px)...      css  \n",
      "1999  <p>It is quite simple, just remove that href=\"...      css  \n",
      "\n",
      "[2000 rows x 3 columns]\n"
     ]
    }
   ],
   "source": [
    "print(\"Shape: \" + str(so_database.shape))\n",
    "print(so_database)"
   ]
  },
  {
   "cell_type": "markdown",
   "id": "923834d6-e065-44c5-9032-0af3d032dd74",
   "metadata": {},
   "source": [
    "## Load the question embeddings"
   ]
  },
  {
   "cell_type": "code",
   "execution_count": 7,
   "id": "c31d02d1-632d-4139-bc31-d1dd4c760f26",
   "metadata": {
    "height": 30
   },
   "outputs": [],
   "source": [
    "from vertexai.language_models import TextEmbeddingModel"
   ]
  },
  {
   "cell_type": "code",
   "execution_count": 8,
   "id": "0fcae98f-3d58-40dc-9244-65b084ce2910",
   "metadata": {
    "height": 47
   },
   "outputs": [],
   "source": [
    "embedding_model = TextEmbeddingModel.from_pretrained(\n",
    "    \"textembedding-gecko@001\")"
   ]
  },
  {
   "cell_type": "code",
   "execution_count": 9,
   "id": "a7cb7c15-1f60-4ae1-9eee-cacf91ce40be",
   "metadata": {
    "height": 47
   },
   "outputs": [],
   "source": [
    "import numpy as np\n",
    "from utils import encode_text_to_embedding_batched"
   ]
  },
  {
   "cell_type": "markdown",
   "id": "8fc34bc0-f2ec-4445-a3c8-2c49957ad167",
   "metadata": {},
   "source": [
    "- Here is the code that embeds the text.  You can adapt it for use in your own projects.  \n",
    "- To save on API calls, we've embedded the text already, so you can load it from the saved file in the next cell.\n",
    "\n",
    "```Python\n",
    "# Encode the stack overflow data\n",
    "\n",
    "so_questions = so_database.input_text.tolist()\n",
    "question_embeddings = encode_text_to_embedding_batched(\n",
    "            sentences = so_questions,\n",
    "            api_calls_per_second = 20/60, \n",
    "            batch_size = 5)\n",
    "```"
   ]
  },
  {
   "cell_type": "code",
   "execution_count": 10,
   "id": "8545a2ba-3d8c-4a61-9fd4-a9687df824e8",
   "metadata": {
    "height": 132
   },
   "outputs": [
    {
     "name": "stdout",
     "output_type": "stream",
     "text": [
      "[[-0.03571156 -0.00240684  0.05860338 ... -0.03100227 -0.00855574\n",
      "  -0.01997405]\n",
      " [-0.02024316 -0.0026255   0.01940405 ... -0.02158143 -0.05655403\n",
      "  -0.01040497]\n",
      " [-0.05175979 -0.03712264  0.02699278 ... -0.07055898 -0.0402537\n",
      "   0.00092099]\n",
      " ...\n",
      " [-0.00580394 -0.01621097  0.05829635 ... -0.03350992 -0.05343556\n",
      "  -0.06016821]\n",
      " [-0.00436622 -0.02692963  0.03363771 ... -0.01686567 -0.03812337\n",
      "  -0.02329491]\n",
      " [-0.04240424 -0.01633749  0.05516777 ... -0.02697376 -0.01751165\n",
      "  -0.04558187]]\n"
     ]
    }
   ],
   "source": [
    "import pickle\n",
    "with open('question_embeddings_app.pkl', 'rb') as file:\n",
    "      \n",
    "    # Call load method to deserialze\n",
    "    question_embeddings = pickle.load(file)\n",
    "  \n",
    "    print(question_embeddings)"
   ]
  },
  {
   "cell_type": "code",
   "execution_count": 11,
   "id": "8d11d36e-e70a-4981-a37b-6b978520d90f",
   "metadata": {
    "height": 30
   },
   "outputs": [],
   "source": [
    "so_database['embeddings'] = question_embeddings.tolist()"
   ]
  },
  {
   "cell_type": "code",
   "execution_count": 12,
   "id": "c9b8f8e5-4989-47cc-a3b1-55e782dea2d0",
   "metadata": {
    "height": 30
   },
   "outputs": [
    {
     "data": {
      "text/html": [
       "<div>\n",
       "<style scoped>\n",
       "    .dataframe tbody tr th:only-of-type {\n",
       "        vertical-align: middle;\n",
       "    }\n",
       "\n",
       "    .dataframe tbody tr th {\n",
       "        vertical-align: top;\n",
       "    }\n",
       "\n",
       "    .dataframe thead th {\n",
       "        text-align: right;\n",
       "    }\n",
       "</style>\n",
       "<table border=\"1\" class=\"dataframe\">\n",
       "  <thead>\n",
       "    <tr style=\"text-align: right;\">\n",
       "      <th></th>\n",
       "      <th>input_text</th>\n",
       "      <th>output_text</th>\n",
       "      <th>category</th>\n",
       "      <th>embeddings</th>\n",
       "    </tr>\n",
       "  </thead>\n",
       "  <tbody>\n",
       "    <tr>\n",
       "      <th>0</th>\n",
       "      <td>python's inspect.getfile returns \"&lt;string&gt;\"&lt;p&gt;...</td>\n",
       "      <td>&lt;p&gt;&lt;code&gt;&amp;lt;string&amp;gt;&lt;/code&gt; means that the ...</td>\n",
       "      <td>python</td>\n",
       "      <td>[-0.03571155667304993, -0.0024068362545222044,...</td>\n",
       "    </tr>\n",
       "    <tr>\n",
       "      <th>1</th>\n",
       "      <td>Passing parameter to function while multithrea...</td>\n",
       "      <td>&lt;p&gt;Try this and note the difference:&lt;/p&gt;\\n&lt;pre...</td>\n",
       "      <td>python</td>\n",
       "      <td>[-0.020243162289261818, -0.002625499852001667,...</td>\n",
       "    </tr>\n",
       "    <tr>\n",
       "      <th>2</th>\n",
       "      <td>How do we test a specific method written in a ...</td>\n",
       "      <td>&lt;p&gt;Duplicate of &lt;a href=\"https://stackoverflow...</td>\n",
       "      <td>python</td>\n",
       "      <td>[-0.05175979062914848, -0.03712264448404312, 0...</td>\n",
       "    </tr>\n",
       "    <tr>\n",
       "      <th>3</th>\n",
       "      <td>how can i remove the black bg color of an imag...</td>\n",
       "      <td>&lt;p&gt;The alpha channel &amp;quot;disappears&amp;quot; be...</td>\n",
       "      <td>python</td>\n",
       "      <td>[0.02206624671816826, -0.028208276256918907, 0...</td>\n",
       "    </tr>\n",
       "    <tr>\n",
       "      <th>4</th>\n",
       "      <td>How to extract each sheet within an Excel file...</td>\n",
       "      <td>&lt;p&gt;You need to specify the &lt;code&gt;index&lt;/code&gt; ...</td>\n",
       "      <td>python</td>\n",
       "      <td>[-0.05498068407177925, -0.0032414537854492664,...</td>\n",
       "    </tr>\n",
       "    <tr>\n",
       "      <th>...</th>\n",
       "      <td>...</td>\n",
       "      <td>...</td>\n",
       "      <td>...</td>\n",
       "      <td>...</td>\n",
       "    </tr>\n",
       "    <tr>\n",
       "      <th>1995</th>\n",
       "      <td>Is it possible to made inline-block elements l...</td>\n",
       "      <td>&lt;p&gt;If this is only for the visual purpose then...</td>\n",
       "      <td>css</td>\n",
       "      <td>[-0.009190441109240055, -0.01732615754008293, ...</td>\n",
       "    </tr>\n",
       "    <tr>\n",
       "      <th>1996</th>\n",
       "      <td>Flip Clock code works on Codepen and doesn't w...</td>\n",
       "      <td>&lt;p&gt;You forgot to attach the CSS file for the f...</td>\n",
       "      <td>css</td>\n",
       "      <td>[-0.009033069014549255, -0.0009270847076550126...</td>\n",
       "    </tr>\n",
       "    <tr>\n",
       "      <th>1997</th>\n",
       "      <td>React Native How can I put one view in front o...</td>\n",
       "      <td>&lt;p&gt;You can do it using zIndex for example:&lt;/p&gt;...</td>\n",
       "      <td>css</td>\n",
       "      <td>[-0.005803938489407301, -0.016210969537496567,...</td>\n",
       "    </tr>\n",
       "    <tr>\n",
       "      <th>1998</th>\n",
       "      <td>setting fixed width with 100% height of the pa...</td>\n",
       "      <td>&lt;p&gt;You can use &lt;code&gt;width: calc(100% - 100px)...</td>\n",
       "      <td>css</td>\n",
       "      <td>[-0.004366223234683275, -0.02692963369190693, ...</td>\n",
       "    </tr>\n",
       "    <tr>\n",
       "      <th>1999</th>\n",
       "      <td>How to make sidebar button not bring viewpoint...</td>\n",
       "      <td>&lt;p&gt;It is quite simple, just remove that href=\"...</td>\n",
       "      <td>css</td>\n",
       "      <td>[-0.04240424185991287, -0.016337493434548378, ...</td>\n",
       "    </tr>\n",
       "  </tbody>\n",
       "</table>\n",
       "<p>2000 rows × 4 columns</p>\n",
       "</div>"
      ],
      "text/plain": [
       "                                             input_text  \\\n",
       "0     python's inspect.getfile returns \"<string>\"<p>...   \n",
       "1     Passing parameter to function while multithrea...   \n",
       "2     How do we test a specific method written in a ...   \n",
       "3     how can i remove the black bg color of an imag...   \n",
       "4     How to extract each sheet within an Excel file...   \n",
       "...                                                 ...   \n",
       "1995  Is it possible to made inline-block elements l...   \n",
       "1996  Flip Clock code works on Codepen and doesn't w...   \n",
       "1997  React Native How can I put one view in front o...   \n",
       "1998  setting fixed width with 100% height of the pa...   \n",
       "1999  How to make sidebar button not bring viewpoint...   \n",
       "\n",
       "                                            output_text category  \\\n",
       "0     <p><code>&lt;string&gt;</code> means that the ...   python   \n",
       "1     <p>Try this and note the difference:</p>\\n<pre...   python   \n",
       "2     <p>Duplicate of <a href=\"https://stackoverflow...   python   \n",
       "3     <p>The alpha channel &quot;disappears&quot; be...   python   \n",
       "4     <p>You need to specify the <code>index</code> ...   python   \n",
       "...                                                 ...      ...   \n",
       "1995  <p>If this is only for the visual purpose then...      css   \n",
       "1996  <p>You forgot to attach the CSS file for the f...      css   \n",
       "1997  <p>You can do it using zIndex for example:</p>...      css   \n",
       "1998  <p>You can use <code>width: calc(100% - 100px)...      css   \n",
       "1999  <p>It is quite simple, just remove that href=\"...      css   \n",
       "\n",
       "                                             embeddings  \n",
       "0     [-0.03571155667304993, -0.0024068362545222044,...  \n",
       "1     [-0.020243162289261818, -0.002625499852001667,...  \n",
       "2     [-0.05175979062914848, -0.03712264448404312, 0...  \n",
       "3     [0.02206624671816826, -0.028208276256918907, 0...  \n",
       "4     [-0.05498068407177925, -0.0032414537854492664,...  \n",
       "...                                                 ...  \n",
       "1995  [-0.009190441109240055, -0.01732615754008293, ...  \n",
       "1996  [-0.009033069014549255, -0.0009270847076550126...  \n",
       "1997  [-0.005803938489407301, -0.016210969537496567,...  \n",
       "1998  [-0.004366223234683275, -0.02692963369190693, ...  \n",
       "1999  [-0.04240424185991287, -0.016337493434548378, ...  \n",
       "\n",
       "[2000 rows x 4 columns]"
      ]
     },
     "execution_count": 12,
     "metadata": {},
     "output_type": "execute_result"
    }
   ],
   "source": [
    "so_database"
   ]
  },
  {
   "cell_type": "markdown",
   "id": "024e3893-c558-4a35-8680-dc95cd70e417",
   "metadata": {},
   "source": [
    "## Semantic Search\n",
    "\n",
    "When a user asks a question, we can embed their query on the fly and search over all of the Stack Overflow question embeddings to find the most simliar datapoint."
   ]
  },
  {
   "cell_type": "code",
   "execution_count": 13,
   "id": "e84c0523-8bb7-44f2-b437-28b7ca14428f",
   "metadata": {
    "height": 98
   },
   "outputs": [],
   "source": [
    "import numpy as np\n",
    "\n",
    "from sklearn.metrics.pairwise import cosine_similarity\n",
    "from sklearn.metrics import pairwise_distances_argmin as distances_argmin"
   ]
  },
  {
   "cell_type": "code",
   "execution_count": 14,
   "id": "3f0a36b9-2929-4f83-bee7-2a6b82c30787",
   "metadata": {
    "height": 30
   },
   "outputs": [],
   "source": [
    "query = ['How to concat dataframes pandas']"
   ]
  },
  {
   "cell_type": "code",
   "execution_count": 15,
   "id": "96226ac6-0be7-4243-aede-df8226cfc1b2",
   "metadata": {
    "height": 30
   },
   "outputs": [],
   "source": [
    "query_embedding = embedding_model.get_embeddings(query)[0].values"
   ]
  },
  {
   "cell_type": "code",
   "execution_count": 16,
   "id": "1a2b5de8-eede-4cba-ae6e-5a56d14eb2b1",
   "metadata": {
    "height": 64
   },
   "outputs": [],
   "source": [
    "cos_sim_array = cosine_similarity([query_embedding],\n",
    "                                  list(so_database.embeddings.values))"
   ]
  },
  {
   "cell_type": "code",
   "execution_count": 17,
   "id": "1f7f8418-93c4-416e-8df8-b15e96aa7bdf",
   "metadata": {
    "height": 30
   },
   "outputs": [
    {
     "data": {
      "text/plain": [
       "(1, 2000)"
      ]
     },
     "execution_count": 17,
     "metadata": {},
     "output_type": "execute_result"
    }
   ],
   "source": [
    "cos_sim_array.shape"
   ]
  },
  {
   "cell_type": "markdown",
   "id": "582821c0-b31b-43ef-814e-5e5534b2d23c",
   "metadata": {},
   "source": [
    "Once we have a similarity value between our query embedding and each of the database embeddings, we can extract the index with the highest value. This embedding corresponds to the Stack Overflow post that is most similiar to the question \"How to concat dataframes pandas\"."
   ]
  },
  {
   "cell_type": "code",
   "execution_count": 18,
   "id": "45c4a855-e9bc-4283-b93a-13a76fed5adc",
   "metadata": {
    "height": 30
   },
   "outputs": [],
   "source": [
    "index_doc_cosine = np.argmax(cos_sim_array)"
   ]
  },
  {
   "cell_type": "code",
   "execution_count": 19,
   "id": "b47bc5ad-c085-4b4e-9984-8bdb2afa05eb",
   "metadata": {
    "height": 64
   },
   "outputs": [],
   "source": [
    "index_doc_distances = distances_argmin([query_embedding], \n",
    "                                       list(so_database.embeddings.values))[0]"
   ]
  },
  {
   "cell_type": "code",
   "execution_count": 20,
   "id": "5aa5ae70-9109-4ff6-b5bc-e0e587abe177",
   "metadata": {
    "height": 30
   },
   "outputs": [
    {
     "data": {
      "text/plain": [
       "'Add a column name to a panda dataframe (multi index)<p>I concatenate series objects, with existing column names together to a DataFrame in Pandas. The result looks like this:</p>\\n<pre><code>pd.concat([x, y, z], axis=1)\\n\\n\\n   X   |  Y   |   Z\\n  -------------------\\n  data | data | data\\n</code></pre>\\n<p>Now I want to insert another column name A above the column names X, Y, Z, for the whole DataFrame. This should look like this at the end:</p>\\n<pre><code>   A                  # New Column Name\\n  ------------------- \\n   X   |  Y   |   Z   # Old Column Names\\n  -------------------\\n  data | data | data \\n</code></pre>\\n<p>So far I did not find a solution how to insert a column name A above the existing columns names X, Y, Z for the complete DataFrame. I would be grateful for any help. :)</p>'"
      ]
     },
     "execution_count": 20,
     "metadata": {},
     "output_type": "execute_result"
    }
   ],
   "source": [
    "so_database.input_text[index_doc_cosine]"
   ]
  },
  {
   "cell_type": "code",
   "execution_count": 21,
   "id": "8d957e90-c952-4d09-bca7-dbc7b9d3b2fb",
   "metadata": {
    "height": 30
   },
   "outputs": [
    {
     "data": {
      "text/plain": [
       "\"<p>Let's try with <code>MultiIndex.from_product</code> to create <code>MultiIndex</code> columns:</p>\\n<pre><code>df = pd.concat([x, y, z], axis=1)\\ndf.columns = pd.MultiIndex.from_product([['A'], df.columns])\\n</code></pre>\\n<hr />\\n<pre><code>A            \\nX     Y     Z\\ndata  data  data\\n</code></pre>\""
      ]
     },
     "execution_count": 21,
     "metadata": {},
     "output_type": "execute_result"
    }
   ],
   "source": [
    "so_database.output_text[index_doc_cosine]"
   ]
  },
  {
   "cell_type": "markdown",
   "id": "7117a803-e2d0-460e-a431-2aeaf6c35a78",
   "metadata": {},
   "source": [
    "## Question answering with relevant context\n",
    "\n",
    "Now that we have found the most simliar Stack Overflow question, we can take the corresponding answer and use an LLM to produce a more conversational response."
   ]
  },
  {
   "cell_type": "code",
   "execution_count": 22,
   "id": "224a6e5c-360d-4652-8082-a23a0e4eb445",
   "metadata": {
    "height": 30
   },
   "outputs": [],
   "source": [
    "from vertexai.language_models import TextGenerationModel"
   ]
  },
  {
   "cell_type": "code",
   "execution_count": 23,
   "id": "61d1378f-8d7c-41f1-be5a-957a2855ebd0",
   "metadata": {
    "height": 47
   },
   "outputs": [],
   "source": [
    "generation_model = TextGenerationModel.from_pretrained(\n",
    "    \"text-bison@001\")"
   ]
  },
  {
   "cell_type": "code",
   "execution_count": 24,
   "id": "e1069f11-18f2-4f35-ade2-08cbde27a6c9",
   "metadata": {
    "height": 47
   },
   "outputs": [],
   "source": [
    "context = \"Question: \" + so_database.input_text[index_doc_cosine] +\\\n",
    "\"\\n Answer: \" + so_database.output_text[index_doc_cosine]"
   ]
  },
  {
   "cell_type": "code",
   "execution_count": 25,
   "id": "f19e0aba-8d5f-4997-b754-73e32d54b27e",
   "metadata": {
    "height": 166
   },
   "outputs": [],
   "source": [
    "prompt = f\"\"\"Here is the context: {context}\n",
    "             Using the relevant information from the context,\n",
    "             provide an answer to the query: {query}.\"\n",
    "             If the context doesn't provide \\\n",
    "             any relevant information, \\\n",
    "             answer with \\\n",
    "             [I couldn't find a good match in the \\\n",
    "             document database for your query]\n",
    "             \"\"\""
   ]
  },
  {
   "cell_type": "code",
   "execution_count": 26,
   "id": "8460c33c-24db-4698-9e2c-509ff7629c73",
   "metadata": {
    "height": 149
   },
   "outputs": [
    {
     "data": {
      "text/markdown": [
       "To concatenate dataframes in pandas, you can use the <code>pd.concat()</code> function. This function takes a list of dataframes as input and concatenates them along the specified axis. The default axis is 0, which means that the dataframes will be concatenated along the rows. To concatenate dataframes along the columns, you can specify the <code>axis=1</code> argument.\n",
       "\n",
       "Here is an example of how to concatenate two dataframes in pandas:\n",
       "\n",
       "```\n",
       "import pandas as pd\n",
       "\n",
       "df1 = pd.DataFrame({'A': [1, 2, 3], 'B': [4, 5, 6]})\n",
       "df2 = pd.DataFrame({'C': [7, 8, 9], 'D': [10, 11, 12]})\n",
       "\n",
       "df = pd.concat([df1, df2], axis=1)\n",
       "\n",
       "print(df)\n",
       "```\n",
       "\n",
       "This will output the following dataframe:\n",
       "\n",
       "```\n",
       "   A  B  C  D\n",
       "0  1  4  7 10\n",
       "1  2  5  8 11\n",
       "2  3  6  9 12\n",
       "```"
      ],
      "text/plain": [
       "<IPython.core.display.Markdown object>"
      ]
     },
     "metadata": {},
     "output_type": "display_data"
    }
   ],
   "source": [
    "from IPython.display import Markdown, display\n",
    "\n",
    "t_value = 0.2\n",
    "response = generation_model.predict(prompt = prompt,\n",
    "                                    temperature = t_value,\n",
    "                                    max_output_tokens = 1024)\n",
    "\n",
    "display(Markdown(response.text))"
   ]
  },
  {
   "cell_type": "markdown",
   "id": "82a6ad63-2511-411b-b25f-33ddc2eb06fd",
   "metadata": {},
   "source": [
    "## When the documents don't provide useful information\n",
    "\n",
    "Our current workflow returns the most similar question from our embeddings database. But what do we do when that question isn't actually relevant when answering the user query? In other words, we don't have a good match in our database.\n",
    "\n",
    "In addition to providing a more conversational response, LLMs can help us handle these cases where the most similiar document isn't actually a reasonable answer to the user's query."
   ]
  },
  {
   "cell_type": "code",
   "execution_count": 27,
   "id": "f2a14e45-63be-4f5d-978c-046de430be41",
   "metadata": {
    "height": 30
   },
   "outputs": [],
   "source": [
    "query = ['How to make the perfect lasagna']"
   ]
  },
  {
   "cell_type": "code",
   "execution_count": 28,
   "id": "232818b5-281b-42df-a41a-a4a11e720113",
   "metadata": {
    "height": 30
   },
   "outputs": [],
   "source": [
    "query_embedding = embedding_model.get_embeddings(query)[0].values"
   ]
  },
  {
   "cell_type": "code",
   "execution_count": 29,
   "id": "000c1979-bb51-4dbd-921a-53d43b603a1b",
   "metadata": {
    "height": 64
   },
   "outputs": [],
   "source": [
    "cos_sim_array = cosine_similarity([query_embedding], \n",
    "                                  list(so_database.embeddings.values))"
   ]
  },
  {
   "cell_type": "code",
   "execution_count": 30,
   "id": "1ccfded1-bf83-4d01-bdfa-a7dfd9f7eeee",
   "metadata": {
    "height": 30
   },
   "outputs": [
    {
     "data": {
      "text/plain": [
       "array([[0.52794666, 0.49346994, 0.50784253, ..., 0.45782265, 0.5483748 ,\n",
       "        0.49693718]])"
      ]
     },
     "execution_count": 30,
     "metadata": {},
     "output_type": "execute_result"
    }
   ],
   "source": [
    "cos_sim_array"
   ]
  },
  {
   "cell_type": "code",
   "execution_count": 31,
   "id": "c9c1e7ff-8db2-4f21-a3d3-7fdd2084bfc1",
   "metadata": {
    "height": 30
   },
   "outputs": [],
   "source": [
    "index_doc = np.argmax(cos_sim_array)"
   ]
  },
  {
   "cell_type": "code",
   "execution_count": 32,
   "id": "f6b607d8-af01-4f0b-8ab6-53d9b7e9fba4",
   "metadata": {
    "height": 47
   },
   "outputs": [],
   "source": [
    "context = so_database.input_text[index_doc] + \\\n",
    "\"\\n Answer: \" + so_database.output_text[index_doc]"
   ]
  },
  {
   "cell_type": "code",
   "execution_count": 33,
   "id": "9e5688d3-12ae-4472-8bb8-3e0496424258",
   "metadata": {
    "height": 149
   },
   "outputs": [],
   "source": [
    "prompt = f\"\"\"Here is the context: {context}\n",
    "             Using the relevant information from the context,\n",
    "             provide an answer to the query: {query}.\"\n",
    "             If the context doesn't provide \\\n",
    "             any relevant information, answer with \n",
    "             [I couldn't find a good match in the \\\n",
    "             document database for your query]\n",
    "             \"\"\""
   ]
  },
  {
   "cell_type": "code",
   "execution_count": 34,
   "id": "3685dd6a-7d08-4348-8ceb-7e1a640bfb2a",
   "metadata": {
    "height": 98
   },
   "outputs": [
    {
     "data": {
      "text/markdown": [
       "I couldn't find a good match in the document database for your query"
      ],
      "text/plain": [
       "<IPython.core.display.Markdown object>"
      ]
     },
     "metadata": {},
     "output_type": "display_data"
    }
   ],
   "source": [
    "t_value = 0.2\n",
    "response = generation_model.predict(prompt = prompt,\n",
    "                                    temperature = t_value,\n",
    "                                    max_output_tokens = 1024)\n",
    "display(Markdown(response.text))"
   ]
  },
  {
   "cell_type": "markdown",
   "id": "07ca1481-e353-46b0-8982-81db8eb23567",
   "metadata": {},
   "source": [
    "## Scale with approximate nearest neighbor search\n",
    "\n",
    "When dealing with a large dataset, computing the similarity between the query and each original embedded document in the database might be too expensive. Instead of doing that, you can use approximate nearest neighbor algorithms that find the most similar documents in a more efficient way.\n",
    "\n",
    "These algorithms usually work by creating an index for your data, and using that index to find the most similar documents for your queries. In this notebook, we will use ScaNN to demonstrate the benefits of efficient vector similarity search. First, you have to create an index for your embedded dataset."
   ]
  },
  {
   "cell_type": "code",
   "execution_count": 35,
   "id": "320eee3a-4fdd-42e0-bfff-6c4504499447",
   "metadata": {
    "height": 149
   },
   "outputs": [
    {
     "name": "stderr",
     "output_type": "stream",
     "text": [
      "2024-03-24 00:10:14.659490: I scann/partitioning/partitioner_factory_base.cc:59] Size of sampled dataset for training partition: 2000\n",
      "2024-03-24 00:10:14.686811: I ./scann/partitioning/kmeans_tree_partitioner_utils.h:88] PartitionerFactory ran in 27.258263ms.\n"
     ]
    }
   ],
   "source": [
    "import scann\n",
    "from utils import create_index\n",
    "\n",
    "#Create index using scann\n",
    "index = create_index(embedded_dataset = question_embeddings, \n",
    "                     num_leaves = 25,\n",
    "                     num_leaves_to_search = 10,\n",
    "                     training_sample_size = 2000)"
   ]
  },
  {
   "cell_type": "code",
   "execution_count": 36,
   "id": "2bdb20d1-6f09-4afc-9ce3-be927b48aa15",
   "metadata": {
    "height": 30
   },
   "outputs": [],
   "source": [
    "query = \"how to concat dataframes pandas\""
   ]
  },
  {
   "cell_type": "code",
   "execution_count": 37,
   "id": "e5a3d624-b505-48a3-a639-ba976f57d920",
   "metadata": {
    "height": 217
   },
   "outputs": [
    {
     "name": "stdout",
     "output_type": "stream",
     "text": [
      "[docid:1143] [0.778209388256073] -- Add a column name to a panda dataframe (multi index)<p>I concatenate series objects, with existing column names together to a...\n",
      "Latency (ms): 718.7371253967285\n"
     ]
    }
   ],
   "source": [
    "import time \n",
    "\n",
    "start = time.time()\n",
    "query_embedding = embedding_model.get_embeddings([query])[0].values\n",
    "neighbors, distances = index.search(query_embedding, final_num_neighbors = 1)\n",
    "end = time.time()\n",
    "\n",
    "for id, dist in zip(neighbors, distances):\n",
    "    print(f\"[docid:{id}] [{dist}] -- {so_database.input_text[int(id)][:125]}...\")\n",
    "\n",
    "print(\"Latency (ms):\", 1000 * (end - start))"
   ]
  },
  {
   "cell_type": "code",
   "execution_count": 38,
   "id": "e44cec14-4001-4207-8ee2-03917482d94a",
   "metadata": {
    "height": 183
   },
   "outputs": [
    {
     "name": "stdout",
     "output_type": "stream",
     "text": [
      "[docid:1143] [0.7782096307231192] -- Add a column name to a panda dataframe (multi index)<p>I concatenate series objects, with existing column names together to a...\n",
      "Latency (ms): 799.9367713928223\n"
     ]
    }
   ],
   "source": [
    "start = time.time()\n",
    "query_embedding = embedding_model.get_embeddings([query])[0].values\n",
    "cos_sim_array = cosine_similarity([query_embedding], list(so_database.embeddings.values))\n",
    "index_doc = np.argmax(cos_sim_array)\n",
    "end = time.time()\n",
    "\n",
    "print(f\"[docid:{index_doc}] [{np.max(cos_sim_array)}] -- {so_database.input_text[int(index_doc)][:125]}...\")\n",
    "\n",
    "print(\"Latency (ms):\", 1000 * (end - start))"
   ]
  },
  {
   "cell_type": "code",
   "execution_count": null,
   "id": "f4c2f366-e8ac-4da7-8d40-c970d171b7f8",
   "metadata": {
    "height": 30
   },
   "outputs": [],
   "source": []
  }
 ],
 "metadata": {
  "kernelspec": {
   "display_name": "Python 3 (ipykernel)",
   "language": "python",
   "name": "python3"
  },
  "language_info": {
   "codemirror_mode": {
    "name": "ipython",
    "version": 3
   },
   "file_extension": ".py",
   "mimetype": "text/x-python",
   "name": "python",
   "nbconvert_exporter": "python",
   "pygments_lexer": "ipython3",
   "version": "3.10.13"
  }
 },
 "nbformat": 4,
 "nbformat_minor": 5
}
